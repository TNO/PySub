{
 "cells": [
  {
   "cell_type": "markdown",
   "id": "93cb12d7",
   "metadata": {},
   "source": [
    "# PySub Tutorial 4 - Advanced plotting\n",
    "\n",
    "Welcome to the fourth example case for building! We are going to use the previously determined subsidence model from Tutorial 1 to display the resulting data in various ways which might be common when making figures.\n",
    "\n",
    "This tutorial can be found in the folder \"Tutorials\", in the folder where your PySub package has been installed.\n",
    "\n",
    "The case we are studying is a the result of Tutorial 1, so make sure you have run that code so the model file is saved in the Tutorial 1 folder. The goal is to familiarize you with the PySub model, it's syntax and functionality. \n",
    "\n",
    "The PySub modules used in this tutorial are: plot_utils, Geometries and memory\n",
    "\n",
    "In this tutorial we will show you how to:\n",
    "- Adjust the plots to your liking:\n",
    "    - Change the colors of the contours\n",
    "    - Change the title\n",
    "    - Add a new legend\n",
    "    - Reuse of the figure for not implemented applications\n",
    "- Add new data to the model so it can also be plotted with the PySub plot functions\n",
    "- Adjust how the reservoirs are plotted in the figures\n",
    "- Add additional shapes to the figure\n",
    "\n",
    "\n",
    "## The code\n",
    "In below cells, an example is given of PySub code where the subsidence is loaded.\n",
    "\n",
    "After this, methods to refine your plots will be discussed."
   ]
  },
  {
   "cell_type": "code",
   "execution_count": null,
   "id": "0d69a91a",
   "metadata": {
    "scrolled": false
   },
   "outputs": [],
   "source": [
    "from PySub.memory import load\n",
    "from PySub import plot_utils as plot\n",
    "load_file = r'Tutorial 1\\save\\Tutorial 1.smf'\n",
    "Model = load(load_file)\n",
    "\n",
    "plot.plot_subsidence(Model)"
   ]
  },
  {
   "cell_type": "markdown",
   "id": "0b30dd4e",
   "metadata": {},
   "source": [
    "## Background layers\n",
    "The standard background maps chosen in PySub are a ArcGIS set of topographical maps. Other maps can be added by finding the link to its wmts service and its layer to the arguments of the plot function. Chances are, that the WMTS function is not in the same coordinate system that your data is in, so specify the coordinate system your data is in."
   ]
  },
  {
   "cell_type": "code",
   "execution_count": null,
   "id": "d3571ce7",
   "metadata": {},
   "outputs": [],
   "source": [
    "help(plot.set_background)"
   ]
  },
  {
   "cell_type": "code",
   "execution_count": null,
   "id": "d004e3c6",
   "metadata": {},
   "outputs": [],
   "source": [
    "plot.set_background(google_service = 'only_streets')\n",
    "plot.plot_subsidence(Model)"
   ]
  },
  {
   "cell_type": "markdown",
   "id": "35e1f0d9",
   "metadata": {},
   "source": [
    "You can reset to the default using:"
   ]
  },
  {
   "cell_type": "code",
   "execution_count": null,
   "id": "8a068b77",
   "metadata": {},
   "outputs": [],
   "source": [
    "plot.set_background(arcgis_service = 'World_Topo_Map')"
   ]
  },
  {
   "cell_type": "markdown",
   "id": "6a2338af",
   "metadata": {},
   "source": [
    "# Adjusting visuals\n",
    "The PySub plotting functions pass arguments to matplotlib.pyplot functions to dictate the plotted result. The default arguments are stored in the Model object. If we want to see the default values we can go to the model object and check which defaults values are set for each type of function. "
   ]
  },
  {
   "cell_type": "code",
   "execution_count": null,
   "id": "70859897",
   "metadata": {},
   "outputs": [],
   "source": [
    "Model.contourf_defaults"
   ]
  },
  {
   "cell_type": "markdown",
   "id": "f9411f9b",
   "metadata": {},
   "source": [
    "The defaults can be set with:"
   ]
  },
  {
   "cell_type": "code",
   "execution_count": null,
   "id": "4a4efb93",
   "metadata": {},
   "outputs": [],
   "source": [
    "Model.set_contourf_defaults({'cmap': 'jet'})"
   ]
  },
  {
   "cell_type": "markdown",
   "id": "19a00413",
   "metadata": {},
   "source": [
    "The explanation on how to adjust the defaults and which are available can be found by passing the desired setting function to the help function:"
   ]
  },
  {
   "cell_type": "code",
   "execution_count": null,
   "id": "6f8cd15a",
   "metadata": {},
   "outputs": [],
   "source": [
    "help(Model.set_contourf_defaults)"
   ]
  },
  {
   "cell_type": "markdown",
   "id": "6024a82c",
   "metadata": {},
   "source": [
    "When setting the default kwargs for that function all the plotting functions that make filled contours will use these arguments. If you want a specific call to a function you can set the keyword arguments in the function as well:"
   ]
  },
  {
   "cell_type": "code",
   "execution_count": null,
   "id": "ac29654d",
   "metadata": {},
   "outputs": [],
   "source": [
    "cmap = 'gist_rainbow_r'\n",
    "colormap_kwargs = {'contourf_kwargs': {'cmap': cmap},\n",
    "                   'contour_kwargs': {'cmap': cmap}}\n",
    "plot.plot_subsidence(Model, **colormap_kwargs)"
   ]
  },
  {
   "cell_type": "markdown",
   "id": "026b705a",
   "metadata": {},
   "source": [
    "The possible kwargs are visible in the help function for the plot function."
   ]
  },
  {
   "cell_type": "markdown",
   "id": "009bf02d",
   "metadata": {},
   "source": [
    "## Shapes\n",
    "The reservoirs are shown in the figures as polygons (standard green). Caverns would be displayed as points. It is also possible to have grids shown as a colored surface. Each of these type of spatial representations of a reservoir or cavern are stored in a geometry object from PySub.\n",
    "\n",
    "In this part, we are discussing the use of shapes in the PySub tool. It is not the aim of the PySub tool to make editable shapes. We recommend GIS software to make figures using poylgons, lines and points. PySub's tools for this are limited.\n",
    "\n",
    "The shapes of the reservoirs can be removed from the final figure by setting the plot_reservoir_shapes argument to False:"
   ]
  },
  {
   "cell_type": "code",
   "execution_count": null,
   "id": "3921413c",
   "metadata": {},
   "outputs": [],
   "source": [
    "plot.plot_subsidence(Model, plot_reservoir_shapes = False)"
   ]
  },
  {
   "cell_type": "markdown",
   "id": "88c070ea",
   "metadata": {},
   "source": [
    "Note that the contours are now plotted with the \"jet\" colormap as set above with the set_contourf function. \n",
    "\n",
    "## Highlighting a shape\n",
    "\n",
    "The shapes can be highlighted by setting the specific color of a shape. There are 3 reservoirs that have polygons plotted for the gas reservoirs. For shapes that are a different type of geometry, these should be considered in the entry of the color arguments as raster_kwargs or scatter_kwargs."
   ]
  },
  {
   "cell_type": "code",
   "execution_count": null,
   "id": "358bb80f",
   "metadata": {},
   "outputs": [],
   "source": [
    "yellow         = (1, 1, 0) # RGB, RGBA or as string: 'yellow'\n",
    "green          = (0, 1, 0) # RGB, RGBA or as string:  'green'\n",
    "gas_reservoirs = ['Norg', 'Allardsoog', 'Een']\n",
    "colors         = [yellow,  green,        green]\n",
    "\n",
    "for color, reservoir in zip(colors, gas_reservoirs): \n",
    "    print(reservoir, color)"
   ]
  },
  {
   "cell_type": "markdown",
   "id": "fbc9f30f",
   "metadata": {},
   "source": [
    "Now that we have determined the colors per reservoir, we can add them to the facecolor (or fc) argument. To show of some other variables which can be adjusted:\n",
    "\n",
    "- the linestyle (ls) is set to be dotted\n",
    "- the edgecolor (ec) is set to red\n",
    "- the linewidth (lw) is set to 3 in points\n",
    "\n",
    "For more adjusteable parameters look [here](https://matplotlib.org/stable/api/_as_gen/matplotlib.patches.PathPatch.html). "
   ]
  },
  {
   "cell_type": "code",
   "execution_count": null,
   "id": "762f5386",
   "metadata": {},
   "outputs": [],
   "source": [
    "plot.plot_reservoirs(Model, shape_kwargs = {'fc': colors, 'ls': ':', 'ec': 'r', 'lw': 3})"
   ]
  },
  {
   "cell_type": "markdown",
   "id": "26d2c514",
   "metadata": {},
   "source": [
    "## Adding a different shape\n",
    "The plot_subsidence function automatically uses the shapes that were used as input to the model. But maybe you want to compare it with another shape. For this, we can use the additional_shapes parameter of the plot subsidence function and the fetch method from the Geometries module. The fetch function takes the location or xy coordinates of a point or polygon as input.\n",
    "\n",
    "Below, the shapes for the original input reservoirs are fetched, and an additional shape for Zevenhuizen-West. The original shapes used in the model are replaced with the additional files by setting the plot_reservoir_shapes to False. This way you can use different shapes for the reservoirs when plotting."
   ]
  },
  {
   "cell_type": "code",
   "execution_count": null,
   "id": "cbd875bf",
   "metadata": {},
   "outputs": [],
   "source": [
    "from PySub.Geometries import fetch\n",
    "\n",
    "additional_shapes = fetch([\n",
    "    r'Shapefiles/Norg.shp',\n",
    "    r'Shapefiles/Allardsoog.shp',\n",
    "    r'Shapefiles/Een.shp',\n",
    "    r'Shapefiles/Zevenhuizen-West.shp',\n",
    "])\n",
    "\n",
    "plot.plot_reservoirs(\n",
    "    Model, \n",
    "    plot_reservoir_shapes = False, \n",
    "    additional_shapes = additional_shapes)"
   ]
  },
  {
   "cell_type": "markdown",
   "id": "150a4f83",
   "metadata": {},
   "source": [
    "Below figure has had some additional editing done:\n",
    "- The background map would not show enough detail with this level of zoom, so we set the zoom_level to 12 (default is 10).\n",
    "I want to add some additional information to this figure, not native to PySub! Like:\n",
    "- a legend for the colors. We want it clear that the yellow field is the field that's going to be producing and the others have been producing already. Therefore, We want the labels to say yellow = \"Producing soon\" and green = \"Producing\".\n",
    "- labels for the x- and y-axis\n",
    "- I want top adjust the extent of the axis beyond the zoom.\n",
    "- Then, I want to save the figure in the output folder\n",
    "\n",
    "We can retreive the figure for additional plotting by setting final to False. This returns a matplotlib fig and ax object, allowing for further manipulation of the figure. The fig and ax objects can be adjusted using [matplotlib](https://matplotlib.org/) methods.\n",
    "\n",
    "When final is set to False, the figure will not save or plot automatically. The matplotlib.pyplot module is used to plot (with plt.show()) and to save (with plt.savefig)."
   ]
  },
  {
   "cell_type": "code",
   "execution_count": null,
   "id": "1ce27475",
   "metadata": {},
   "outputs": [],
   "source": [
    "import os\n",
    "import matplotlib.pyplot as plt \n",
    "\n",
    "# Return a fig and ax object\n",
    "fig, ax = plot.plot_reservoirs(\n",
    "    Model, \n",
    "    shape_kwargs = {'fc': colors}, \n",
    "    final = False,\n",
    "    buffer = -5000, # In m\n",
    "    zoom_level = 12,\n",
    ")\n",
    "\n",
    "# Set the axis labels\n",
    "ax.set_xlabel('RD (m)')\n",
    "ax.set_ylabel('RD (m)')\n",
    "ax.set_xlim(215000, 230000)\n",
    "ax.set_ylim(565000, 572000)\n",
    "\n",
    "\n",
    "# We only want the color of the shapes to change between polygons so we copy the default values.\n",
    "# For more info, use help(plot.add_custom_legend).\n",
    "legend_kwargs = [Model.shape_defaults.copy() for c in (yellow, green)]\n",
    "for i, c in enumerate((yellow, green)):\n",
    "    legend_kwargs[i]['facecolor'] = c\n",
    "\n",
    "# Make some good labels:\n",
    "legend_labels = ['Producing soon', 'Producing',]\n",
    "    \n",
    "plot.add_custom_legend(ax, 'polygon', \n",
    "                       kwargs = legend_kwargs, \n",
    "                       labels = legend_labels)\n",
    "\n",
    "\n",
    "path_to_new_figure = Model.project_folder.output_file(\"modified figure\")\n",
    "plt.savefig(path_to_new_figure, dpi = 'figure', bbox_inches = 'tight')\n",
    "plt.show()"
   ]
  },
  {
   "cell_type": "markdown",
   "id": "1f361565",
   "metadata": {},
   "source": [
    "# Displaying new data\n",
    "By setting values to the SubsidenceModel object (that are xarray Datasets or DataArrays) we can display new data. When at least the data is available in the x- and y-dimension we can show it in 2D. In below cell, an example is made by setting a variable that is the difference between two instances in time:"
   ]
  },
  {
   "cell_type": "code",
   "execution_count": null,
   "id": "dadb1223",
   "metadata": {},
   "outputs": [],
   "source": [
    "Model.subsidence_2000_2010 = (\n",
    "    Model.subsidence.sel(time = '1-1-2010') - \n",
    "    Model.subsidence.sel(time = '1-1-2000')\n",
    ")\n",
    "plot.plot_subsidence(\n",
    "    Model, \n",
    "    variable = \"subsidence_2000_2010\", \n",
    "    contour_steps = 0.001,\n",
    "    title = \"Subsidence between 2000 and 2010 (cm)\"\n",
    ")"
   ]
  },
  {
   "cell_type": "markdown",
   "id": "8fc75f08",
   "metadata": {},
   "source": [
    "Note that the title has been changed by setting the title variable.\n",
    "\n",
    "# Plotting points on a map\n",
    "You can add points on the map in many ways. See variable points here:"
   ]
  },
  {
   "cell_type": "code",
   "execution_count": null,
   "id": "b5c7a430",
   "metadata": {},
   "outputs": [],
   "source": [
    "help(plot.plot_points_on_map)"
   ]
  },
  {
   "cell_type": "markdown",
   "id": "e483320b",
   "metadata": {},
   "source": [
    "These can be your model.observation_points or your model.points"
   ]
  },
  {
   "cell_type": "code",
   "execution_count": null,
   "id": "40060a6b",
   "metadata": {
    "scrolled": true
   },
   "outputs": [],
   "source": [
    "plot.plot_points_on_map(Model, Model.points)"
   ]
  },
  {
   "cell_type": "markdown",
   "id": "6feda31f",
   "metadata": {},
   "source": [
    "# Selecting points\n",
    "You can make your own points using the Points module. This part makes liberal use of \"[list comprehensions](https://stackoverflow.com/a/68408462)\", to make the code much shorter."
   ]
  },
  {
   "cell_type": "code",
   "execution_count": null,
   "id": "57402871",
   "metadata": {},
   "outputs": [],
   "source": [
    "help(Points.PointCollection)"
   ]
  },
  {
   "cell_type": "markdown",
   "id": "b38ee6bc",
   "metadata": {},
   "source": [
    "In the cell below we use the extent of the plot and the line x = 217500 to clip the points. As you can see in the plot, the point east of that line is omitted from the plot."
   ]
  },
  {
   "cell_type": "code",
   "execution_count": null,
   "id": "65a2d9c8",
   "metadata": {
    "scrolled": true
   },
   "outputs": [],
   "source": [
    "from PySub import Points\n",
    "selection_x = 205000, 217500\n",
    "selection_y = 555000, 580000\n",
    "\n",
    "def isin_selection(point, selection_x, selection_y):\n",
    "    # Returns True when the point is in selection, or False when not.\n",
    "    return (selection_x[0] < point.x < selection_x[1]) & (selection_y[0] < point.y < selection_y[1])\n",
    "\n",
    "\n",
    "names_of_points_in_selection = [\n",
    "    p.name for p in Model.points if isin_selection(p, selection_x, selection_y)\n",
    "]\n",
    "\n",
    "points = Points.PointCollection(\n",
    "    Model.points[names_of_points_in_selection]\n",
    ")\n",
    "\n",
    "plot.plot_points_on_map(Model, points=points)"
   ]
  },
  {
   "cell_type": "markdown",
   "id": "a885f318",
   "metadata": {},
   "source": [
    "# Plotting observations on a map\n",
    "Plotting observations uses the same function, but requires a different argument for the plots. Instead of a Points.PointCollection object, you can also select the Point.ObservationCollection object."
   ]
  },
  {
   "cell_type": "code",
   "execution_count": null,
   "id": "e730e3f0",
   "metadata": {},
   "outputs": [],
   "source": [
    "help(Points.ObservationCollection)"
   ]
  },
  {
   "cell_type": "markdown",
   "id": "1d55a8e6",
   "metadata": {},
   "source": [
    "Using this functionality we make the same selection as before, using the line x = 217500 to clip the observations."
   ]
  },
  {
   "cell_type": "code",
   "execution_count": null,
   "id": "c5b7b70d",
   "metadata": {},
   "outputs": [],
   "source": [
    "names_of_observations_in_selection = [\n",
    "    p.name for p in Model.observation_points if isin_selection(p, selection_x, selection_y)\n",
    "]\n",
    "\n",
    "observations = Points.ObservationCollection(\n",
    "    Model.observation_points[names_of_observations_in_selection]\n",
    ")\n",
    "plot.plot_points_on_map(Model, points=observations, scatter_kwargs = {\"marker\": \"^\", \"fc\": \"r\", \"ec\":\"k\"})"
   ]
  },
  {
   "cell_type": "markdown",
   "id": "fd4ea36b",
   "metadata": {},
   "source": [
    "The most flexible way to plot and label points is using lists (or list-like objects like numpy arrays) as the points argument. To have labels assigned to these, you can add the labels argument. Labels must have the same length the amount of points, but not all values need to be text. Enter \"\" to not add a label."
   ]
  },
  {
   "cell_type": "code",
   "execution_count": null,
   "id": "6394cf2d",
   "metadata": {},
   "outputs": [],
   "source": [
    "point_1 = [215000, 570345]\n",
    "point_2 = [214852, 565000]\n",
    "point_3 = [226546, 585000] # This point is far away from the subsidence bowl. We are not interested in it.\n",
    "plot.plot_points_on_map(\n",
    "    Model, \n",
    "    points=[point_1, point_2, point_3], \n",
    "    labels = [\"point 1\", \"point 2\", \"\"], \n",
    "    scatter_kwargs = {\"marker\": \"^\", \"fc\": \"r\", \"ec\":\"k\"}\n",
    ")"
   ]
  },
  {
   "cell_type": "markdown",
   "id": "9e6c2150",
   "metadata": {},
   "source": [
    "An analog with a Points object is described below. here too all points are plotted, but only a selection has a label.\n",
    "This cell performs selection based on coordinates:"
   ]
  },
  {
   "cell_type": "code",
   "execution_count": null,
   "id": "64edcd2f",
   "metadata": {},
   "outputs": [],
   "source": [
    "labels = [\n",
    "    p.name \n",
    "    if isin_selection(p, selection_x, selection_y) else \"\" \n",
    "    for p in Model.observation_points\n",
    "]\n",
    "plot.plot_points_on_map(\n",
    "    Model, \n",
    "    points=Model.observation_points, \n",
    "    labels=labels,\n",
    "    scatter_kwargs = {\"marker\": \"^\", \"fc\": \"r\", \"ec\":\"k\"}\n",
    ")"
   ]
  },
  {
   "cell_type": "markdown",
   "id": "e7627d09",
   "metadata": {},
   "source": [
    "And this cell based on a selection of possibly multiple points of interest:"
   ]
  },
  {
   "cell_type": "code",
   "execution_count": null,
   "id": "798373af",
   "metadata": {},
   "outputs": [],
   "source": [
    "observations_of_interest = [\"00000001\"]\n",
    "\n",
    "labels = [\n",
    "    p.name \n",
    "    if p.name in observations_of_interest else \"\" \n",
    "    for p in Model.observation_points\n",
    "]\n",
    "plot.plot_points_on_map(\n",
    "    Model, \n",
    "    points=Model.observation_points, \n",
    "    labels=labels,\n",
    "    scatter_kwargs = {\"marker\": \"^\", \"fc\": \"r\", \"ec\":\"k\"}\n",
    ")"
   ]
  },
  {
   "cell_type": "code",
   "execution_count": null,
   "id": "ede609ff",
   "metadata": {},
   "outputs": [],
   "source": []
  }
 ],
 "metadata": {
  "kernelspec": {
   "display_name": "Python 3 (ipykernel)",
   "language": "python",
   "name": "python3"
  },
  "language_info": {
   "codemirror_mode": {
    "name": "ipython",
    "version": 3
   },
   "file_extension": ".py",
   "mimetype": "text/x-python",
   "name": "python",
   "nbconvert_exporter": "python",
   "pygments_lexer": "ipython3",
   "version": "3.10.6"
  }
 },
 "nbformat": 4,
 "nbformat_minor": 5
}
