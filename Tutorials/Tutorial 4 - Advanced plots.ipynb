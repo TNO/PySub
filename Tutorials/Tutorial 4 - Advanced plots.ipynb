{
 "cells": [
  {
   "cell_type": "markdown",
   "id": "93cb12d7",
   "metadata": {},
   "source": [
    "# PySub Tutorial 4 - Advaned plotting\n",
    "\n",
    "Welcome to the fourth example case for building! We are going to use the previously determined subsidence model from Tutorial 1 to display the resulting data in various ways which might be common when making figures.\n",
    "\n",
    "This tutorial can be found in the folder \"Tutorials\", in the folder where your PySub package has been installed.\n",
    "\n",
    "The case we are studying is a the result of Tutorial 1, so make sure you have run that code so the model file is saved in the Tutorial 1 folder. The goal is to familiarize you with the PySub model, it's syntax and functionality. \n",
    "\n",
    "The PySub modules used in this tutorial are: plot_utils, Geomoetries and memory\n",
    "\n",
    "In this tutorial we will show you how to:\n",
    "- Adjust the plots to your liking:\n",
    "    - Change the colors of the contours\n",
    "    - Change the title\n",
    "    - Add a new legend\n",
    "    - Reuse of the figure for not implemented applications\n",
    "- Add new data to the model so it can also be plotted with the PySub plot functions\n",
    "- Adjust how the reservoirs are plotted in the figures\n",
    "- Add additional shapes to the figure\n",
    "\n",
    "\n",
    "## The code\n",
    "In below cells, an example is given of PySub code where the subsidence is loaded.\n",
    "\n",
    "After this, methods to refine your plots will be discussed."
   ]
  },
  {
   "cell_type": "code",
   "execution_count": 1,
   "id": "0d69a91a",
   "metadata": {
    "scrolled": false
   },
   "outputs": [
    {
     "ename": "ModuleNotFoundError",
     "evalue": "No module named 'PySub'",
     "output_type": "error",
     "traceback": [
      "\u001b[1;31m---------------------------------------------------------------------------\u001b[0m",
      "\u001b[1;31mModuleNotFoundError\u001b[0m                       Traceback (most recent call last)",
      "Input \u001b[1;32mIn [1]\u001b[0m, in \u001b[0;36m<cell line: 1>\u001b[1;34m()\u001b[0m\n\u001b[1;32m----> 1\u001b[0m \u001b[38;5;28;01mfrom\u001b[39;00m \u001b[38;5;21;01mPySub\u001b[39;00m\u001b[38;5;21;01m.\u001b[39;00m\u001b[38;5;21;01mmemory\u001b[39;00m \u001b[38;5;28;01mimport\u001b[39;00m load\n\u001b[0;32m      2\u001b[0m \u001b[38;5;28;01mfrom\u001b[39;00m \u001b[38;5;21;01mPySub\u001b[39;00m \u001b[38;5;28;01mimport\u001b[39;00m plot_utils \u001b[38;5;28;01mas\u001b[39;00m plot\n\u001b[0;32m      3\u001b[0m load_file \u001b[38;5;241m=\u001b[39m \u001b[38;5;124mr\u001b[39m\u001b[38;5;124m'\u001b[39m\u001b[38;5;124mTutorial 1\u001b[39m\u001b[38;5;124m\\\u001b[39m\u001b[38;5;124msave\u001b[39m\u001b[38;5;124m\\\u001b[39m\u001b[38;5;124mTutorial 1.smf\u001b[39m\u001b[38;5;124m'\u001b[39m\n",
      "\u001b[1;31mModuleNotFoundError\u001b[0m: No module named 'PySub'"
     ]
    }
   ],
   "source": [
    "from PySub.memory import load\n",
    "from PySub import plot_utils as plot\n",
    "load_file = r'Tutorial 1\\save\\Tutorial 1.smf'\n",
    "Model = load(load_file)\n",
    "\n",
    "plot.plot_subsidence(Model)"
   ]
  },
  {
   "cell_type": "markdown",
   "id": "0b30dd4e",
   "metadata": {},
   "source": [
    "## Background layers\n",
    "The standard background maps chosen in PySub are a Dutch set of topographical maps (OpenTopo). Other maps can be added by finding the link to its wmts service and its layer to the arguments of the plot function. Chances are, that the WMTS function is not in the same coordinate system that your data is in, so specify the coordinate system your data is in."
   ]
  },
  {
   "cell_type": "code",
   "execution_count": null,
   "id": "d3571ce7",
   "metadata": {},
   "outputs": [],
   "source": [
    "plot.plot_subsidence(Model,\n",
    "                    service = 'https://map1c.vis.earthdata.nasa.gov/wmts-geo/wmts.cgi',\n",
    "                    layer = 'VIIRS_CityLights_2012',\n",
    "                    epsg = 28992)"
   ]
  },
  {
   "cell_type": "markdown",
   "id": "6a2338af",
   "metadata": {},
   "source": [
    "# Adjusting visuals\n",
    "The PySub plotting functions pass arguments to matplotlib.pyplot functions to dictate the plotted result. The default arguments are stored in the Model object. If we want to see the default values we can go to the model object and check which defaults values are set for each type of function. "
   ]
  },
  {
   "cell_type": "code",
   "execution_count": null,
   "id": "70859897",
   "metadata": {},
   "outputs": [],
   "source": [
    "Model.contourf_defaults"
   ]
  },
  {
   "cell_type": "markdown",
   "id": "f9411f9b",
   "metadata": {},
   "source": [
    "The defaults can be set with:"
   ]
  },
  {
   "cell_type": "code",
   "execution_count": null,
   "id": "4a4efb93",
   "metadata": {},
   "outputs": [],
   "source": [
    "Model.set_contourf_defaults({'cmap': 'jet'})"
   ]
  },
  {
   "cell_type": "markdown",
   "id": "19a00413",
   "metadata": {},
   "source": [
    "The explanation on how to adjust the defaults and which are available can be found by passing the desired setting function to the help function:"
   ]
  },
  {
   "cell_type": "code",
   "execution_count": null,
   "id": "6f8cd15a",
   "metadata": {},
   "outputs": [],
   "source": [
    "help(Model.set_contourf_defaults)"
   ]
  },
  {
   "cell_type": "markdown",
   "id": "6024a82c",
   "metadata": {},
   "source": [
    "When setting the default kwargs for that function all the plotting functions that make filled contours will use these arguments. If you want a specific call to a function you can set the keyword arguments in the function as well:"
   ]
  },
  {
   "cell_type": "code",
   "execution_count": null,
   "id": "ac29654d",
   "metadata": {},
   "outputs": [],
   "source": [
    "plot.plot_subsidence(Model, contourf_kwargs = {'cmap': 'gist_rainbow_r'})"
   ]
  },
  {
   "cell_type": "markdown",
   "id": "026b705a",
   "metadata": {},
   "source": [
    "The possible kwargs are visible in the help function for the plot function."
   ]
  },
  {
   "cell_type": "markdown",
   "id": "009bf02d",
   "metadata": {},
   "source": [
    "## Shapes\n",
    "The reservoirs are shown in the figures as polygons (standard green). Caverns would be displayed as points. It is also possible to have grids shown as a colored surface. Each of these type of spatial representations of a reservoir or cavern are stored in a geometry object from PySub.\n",
    "\n",
    "In this part, we are discussing the use of shapes in the PySub tool. It is not the aim of the PySub tool to make editable shapes. We recommend GIS software to make figures using poylgons, lines and points. PySub's tools for this are limited.\n",
    "\n",
    "The shapes of the reservoirs can be removed from the final figure by setting the plot_reservoir_shapes argument to False:"
   ]
  },
  {
   "cell_type": "code",
   "execution_count": null,
   "id": "3921413c",
   "metadata": {},
   "outputs": [],
   "source": [
    "plot.plot_subsidence(Model, plot_reservoir_shapes = False)"
   ]
  },
  {
   "cell_type": "markdown",
   "id": "88c070ea",
   "metadata": {},
   "source": [
    "Note that the contours are now plotted with the \"jet\" colormap as set above with the set_contourf function. \n",
    "\n",
    "## Highlighting a shape\n",
    "\n",
    "The shapes can be highlighted by setting the specific color of a shape. There are 3 reservoirs that have polygons plotted for the gas reservoirs. For shapes that are a different type of geometry, these should be considered in the entry of the color arguments as raster_kwargs or scatter_kwargs."
   ]
  },
  {
   "cell_type": "code",
   "execution_count": null,
   "id": "358bb80f",
   "metadata": {},
   "outputs": [],
   "source": [
    "yellow         = (1, 1, 0) # RGB, RGBA or as string: 'yellow'\n",
    "green          = (0, 1, 0) # RGB, RGBA or as string:  'green'\n",
    "gas_reservoirs = ['Norg', 'Allardsoog', 'Een']\n",
    "colors         = [yellow,  green,        green]\n",
    "\n",
    "for color, reservoir in zip(colors, gas_reservoirs): print(reservoir, color)"
   ]
  },
  {
   "cell_type": "code",
   "execution_count": null,
   "id": "762f5386",
   "metadata": {},
   "outputs": [],
   "source": [
    "plot.plot_reservoirs(Model, shape_kwargs = {'fc': colors})"
   ]
  },
  {
   "cell_type": "markdown",
   "id": "26d2c514",
   "metadata": {},
   "source": [
    "## Adding a different shape\n",
    "The plot_subsidence function automatically uses the shapes that were used as input to the model. But maybe you want to compare it with another shape. For this, we can use the additional_shapes parameter of the plot subsidence function and the fetch method from the Geometries module. The fetch function takes the location or xy coordinates of a point or polygon as input.\n",
    "\n",
    "Below, the shapes for the original input reservoirs are fetched, and an additional shape for Zevenhuizen-West. The original shapes used in the model are replaced with the additional files by setting the plot_reservoir_shapes to False. This way you can use different shapes for the reservoirs when plotting."
   ]
  },
  {
   "cell_type": "code",
   "execution_count": null,
   "id": "cbd875bf",
   "metadata": {},
   "outputs": [],
   "source": [
    "from PySub.Geometries import fetch\n",
    "\n",
    "additional_shapes = fetch([\n",
    "    r'Shapefiles/Norg.shp',\n",
    "    r'Shapefiles/Allardsoog.shp',\n",
    "    r'Shapefiles/Een.shp',\n",
    "    r'Shapefiles/Zevenhuizen-West.shp',\n",
    "])\n",
    "\n",
    "plot.plot_reservoirs(Model, plot_reservoir_shapes = False, shape_kwargs = {}, additional_shapes = additional_shapes)"
   ]
  },
  {
   "cell_type": "code",
   "execution_count": null,
   "id": "4f6f66b4",
   "metadata": {},
   "outputs": [],
   "source": [
    "from pyproj import CRS\n",
    "CRS.from_epsg(28992).to_wkt()"
   ]
  },
  {
   "cell_type": "markdown",
   "id": "150a4f83",
   "metadata": {},
   "source": [
    "Below figure has had some additional editing done:\n",
    "Maybe that's a bit far out and we want to zoom in (a negative sign before the buffer parameter).\n",
    "I want to add some additional information to this figure, not native to PySub! Like:\n",
    "- a legend for the colors I have been using. We want it clear that the yellow field is the field that's going to be producing and the others have been producing already. Therefore, We want the labels to say yellow = Producing soon and green = Producing.\n",
    "- labels for the x- and y-axis\n",
    "\n",
    "We can retreive the figure for additional plotting by setting final to False. This returns a matplotlib fig and ax object, allowing for further manipulation of the figure:"
   ]
  },
  {
   "cell_type": "code",
   "execution_count": null,
   "id": "1ce27475",
   "metadata": {},
   "outputs": [],
   "source": [
    "# Return a fig and ax object\n",
    "fig, ax = plot.plot_reservoirs(\n",
    "    Model, \n",
    "    shape_kwargs = {'fc': colors}, \n",
    "    final = False,\n",
    "    buffer = -5000 # In m\n",
    ")\n",
    "\n",
    "# Set the axis labels\n",
    "ax.set_xlabel('RD (m)')\n",
    "ax.set_ylabel('RD (m)')\n",
    "\n",
    "# We only want the color of the shapes to change between polygons so we copy the default values.\n",
    "# For more info, use help(plot.add_custom_legend).\n",
    "legend_kwargs = [Model.shape_defaults.copy() for c in (yellow, green)]\n",
    "for i, c in enumerate((yellow, green)):\n",
    "    legend_kwargs[i]['facecolor'] = c\n",
    "\n",
    "# Make some good labels:\n",
    "legend_labels = ['Producing soon', 'Producing',]\n",
    "    \n",
    "plot.add_custom_legend(ax, 'polygon', \n",
    "                       kwargs = legend_kwargs, \n",
    "                       labels = legend_labels)\n",
    "fig.show()"
   ]
  },
  {
   "cell_type": "markdown",
   "id": "1f361565",
   "metadata": {},
   "source": [
    "# Displaying new data\n",
    "By setting values to the SubsidenceModel object (that are xarray Datasets or DataArrays) we can display new data. When at least the data is available in the x- and y-dimension we can show it in 2D. In below cell, an example is made by setting a variable that is the difference between two instances in time:"
   ]
  },
  {
   "cell_type": "code",
   "execution_count": null,
   "id": "dadb1223",
   "metadata": {},
   "outputs": [],
   "source": [
    "Model.subsidence_2000_2010 = Model.subsidence.sel(time = '1-1-2010') - Model.subsidence.sel(time = '1-1-2000')\n",
    "plot.plot_subsidence(Model, variable = \"subsidence_2000_2010\", contour_steps = 0.001,\n",
    "                    title = \"Subsidence between 2000 and 2010 (cm)\")"
   ]
  },
  {
   "cell_type": "markdown",
   "id": "8fc75f08",
   "metadata": {},
   "source": [
    "Note that the title has been changed by setting the title variable."
   ]
  },
  {
   "cell_type": "code",
   "execution_count": null,
   "id": "f338a805",
   "metadata": {},
   "outputs": [],
   "source": []
  }
 ],
 "metadata": {
  "kernelspec": {
   "display_name": "Python 3 (ipykernel)",
   "language": "python",
   "name": "python3"
  },
  "language_info": {
   "codemirror_mode": {
    "name": "ipython",
    "version": 3
   },
   "file_extension": ".py",
   "mimetype": "text/x-python",
   "name": "python",
   "nbconvert_exporter": "python",
   "pygments_lexer": "ipython3",
   "version": "3.9.7"
  }
 },
 "nbformat": 4,
 "nbformat_minor": 5
}
