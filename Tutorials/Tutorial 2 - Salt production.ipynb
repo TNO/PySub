{
 "cells": [
  {
   "cell_type": "markdown",
   "id": "3ecc21bc",
   "metadata": {},
   "source": [
    "# PySub Tutorial 2 - Extraction of solids and merging of models\n",
    "Welcome to the second example for running PySub from Excel files. In this example we are going to calculate the subsidence due to hypothetical squeeze volume change in the deep ground due to salt extraction. The squeeze volumes should be precomputed using other models.\n",
    "\n",
    "Next to that, we are going to load the previous example (where subsidence due to gas extraction was modelled) and merge these two models to get the cumulative subsidence. \n",
    "\n",
    "This tutorial can be found in the folder \"Tutorials\", in the folder where your PySub package has been installed.\n",
    "\n",
    "In this tutorial we are going to built a simple model from deep salt mining. For how to fill in the Excel work sheet, we divert you to this tutorial (.../python-subsidence/Documentation/Intructions Template SubsidenceModelCavern.docx).\n",
    "\n",
    "The PySub modules used in this tutorial are: SubsidenceModelSalt, MergedModel, plot_utils and memory\n",
    "\n",
    "\n",
    "## Overview\n",
    "The first cell of code determines the subsidence caused by mining of salt, loads a different type of model (see tutorial 1) and merges the two to enable us to visualize the cumulative subsidence."
   ]
  },
  {
   "cell_type": "code",
   "execution_count": null,
   "id": "6a627e86",
   "metadata": {
    "scrolled": false
   },
   "outputs": [],
   "source": [
    "import os\n",
    "project_folder = os.getcwd()\n",
    "\n",
    "from PySub.memory import build_cavern_model, save, load\n",
    "from PySub.MergedModel import merge\n",
    "from PySub import plot_utils as plot\n",
    "\n",
    "name = 'Tutorial 2'\n",
    "excel_file = \"Example salt.xlsx\"\n",
    "\n",
    "SaltModel = build_cavern_model(excel_file, name = name, project_folder = project_folder)\n",
    "\n",
    "SaltModel.calculate_subsidence()\n",
    "plot.plot_subsidence(SaltModel)\n",
    "\n",
    "GasModel = load(r'Tutorial 1\\save\\Tutorial 1.smf')\n",
    "MergedModel = merge([SaltModel, GasModel], project_folder = project_folder, dx = 100)\n",
    "\n",
    "plot.plot_subsidence(MergedModel)"
   ]
  },
  {
   "cell_type": "markdown",
   "id": "19357215",
   "metadata": {},
   "source": [
    "In the first two lines of code we determine the project folder where the salt model and the merged model will be saved in, as will the figures we produce here. \n",
    "\n",
    "The next three lines are importing relevant functions or modules.\n",
    "From the memory package we specify the way we want to interpret our Excel file: as a cavern model. A cavern model indicates the deformation a cavern undergoes due to pressure changes inside and outside the cavern. Although the deforation of these caverns are not determined using PySub, the resulting subsidence is.\n",
    "\n",
    "From the memory module we also import load and save to load the model from tutorial 1 and to save the resulting merged model.\n",
    "\n",
    "The models are merged using the merge function from the module MergedModel and everything is plotted using the module plot_utils."
   ]
  },
  {
   "cell_type": "code",
   "execution_count": null,
   "id": "0ced2a3a",
   "metadata": {},
   "outputs": [],
   "source": [
    "import os\n",
    "project_folder = os.getcwd()\n",
    "\n",
    "from PySub.memory import build_cavern_model, save, load\n",
    "from PySub.MergedModel import merge\n",
    "from PySub import plot_utils as plot"
   ]
  },
  {
   "cell_type": "markdown",
   "id": "14412c83",
   "metadata": {},
   "source": [
    "The lines where the salt model is imported are as follows:"
   ]
  },
  {
   "cell_type": "code",
   "execution_count": null,
   "id": "80e01388",
   "metadata": {},
   "outputs": [],
   "source": [
    "name = 'Tutorial 2'\n",
    "excel_file = r\"\\\\tsn.tno.nl\\Data\\sv\\sv-069554\\Kluis\\Lop_Proj_2021_EZK\\B12_KEM16\\WP4\\Exampe input\\Input example salt.xlsx\"\n",
    "\n",
    "SaltModel = build_cavern_model(excel_file, name = name, project_folder = project_folder)"
   ]
  },
  {
   "cell_type": "markdown",
   "id": "71bc6856",
   "metadata": {},
   "source": [
    "The SaltModel variable is an SubsidenceModel object from the SubsidenceModelSalt module. There is a difference between this SubsidenceModel object and the SubsidenceModelGas.SubsidenceModel object. They both are able to determine subsidence, but where the SubsidenceModelGas.SubsidenceModel determines it from pressure change in a reservoir and is required to also calculate the compaction, the SubsidenceModelSalt.SubsidenceModel object cannot determine compaction and only squeeze volumes are set.\n",
    "\n",
    "So when the model is built in this way, we can immediately calculate the subsidence and visualize the result:"
   ]
  },
  {
   "cell_type": "code",
   "execution_count": null,
   "id": "2736f6f4",
   "metadata": {},
   "outputs": [],
   "source": [
    "SaltModel.calculate_subsidence()\n",
    "plot.plot_subsidence(SaltModel)"
   ]
  },
  {
   "cell_type": "markdown",
   "id": "448e458f",
   "metadata": {},
   "source": [
    "Due to different model types taking different inputs, and methods to determine the subsidence (for details see the technical documentation), the two different types of models cannot calculate their subsidence in the same model. To show cumulative subsidence between different types we can merge the models and use the methods they share.\n",
    "\n",
    "For this example we load the model made in the previous tutorial:"
   ]
  },
  {
   "cell_type": "code",
   "execution_count": null,
   "id": "a3346c78",
   "metadata": {},
   "outputs": [],
   "source": [
    "GasModel = load(r'Tutorial 1\\save\\Tutorial 1.smf')"
   ]
  },
  {
   "cell_type": "markdown",
   "id": "f67baf60",
   "metadata": {},
   "source": [
    "The merging of the model is done as below. The input of the merge function is a list of all the models you want to merge, which can be more then two. The subsequent setting of the project folder and model name are due to the merged model not inheriting a name or project folder from the previous models to prevent confusion, but this does mean we need to define them afterwards."
   ]
  },
  {
   "cell_type": "code",
   "execution_count": null,
   "id": "04ec02fb",
   "metadata": {},
   "outputs": [],
   "source": [
    "MergedModel = merge([SaltModel, GasModel], project_folder = project_folder)\n",
    "MergedModel.name = 'merged'"
   ]
  },
  {
   "cell_type": "markdown",
   "id": "6b52b40a",
   "metadata": {},
   "source": [
    "The resulting model has all the functionality of the other models, when they have their subsidence calculated. So now we can plot it:"
   ]
  },
  {
   "cell_type": "code",
   "execution_count": null,
   "id": "056cdcd1",
   "metadata": {},
   "outputs": [],
   "source": [
    "plot.plot_subsidence(MergedModel)"
   ]
  },
  {
   "cell_type": "markdown",
   "id": "84d7ad6f",
   "metadata": {},
   "source": [
    "The functionality is limited with respects to the other types of models because setting of paremeters is not allowed. Any additional calculations of subsidence, or small adjustments of parameters and recalculations in the same model object are not allowd. You can observe this behaviour be deleting the # below and run the cell. The error it gives clearly states setting of physical parameters are not allowed. Setting the parameters to determine the layout of plots is allowed."
   ]
  },
  {
   "cell_type": "code",
   "execution_count": null,
   "id": "5eab4700",
   "metadata": {},
   "outputs": [],
   "source": [
    "# help(MergedModel.set_pressures)"
   ]
  },
  {
   "cell_type": "markdown",
   "id": "479be0bc",
   "metadata": {},
   "source": [
    "More advanced calculations based on the subsidence can also be done and will be discussed in tutorial 3. If you want, you can remove the # to save this model as well:"
   ]
  },
  {
   "cell_type": "code",
   "execution_count": null,
   "id": "95277065",
   "metadata": {
    "scrolled": false
   },
   "outputs": [],
   "source": [
    "# save(MergedModel)"
   ]
  },
  {
   "cell_type": "code",
   "execution_count": null,
   "id": "5bbad349",
   "metadata": {},
   "outputs": [],
   "source": []
  }
 ],
 "metadata": {
  "kernelspec": {
   "display_name": "Python 3 (ipykernel)",
   "language": "python",
   "name": "python3"
  },
  "language_info": {
   "codemirror_mode": {
    "name": "ipython",
    "version": 3
   },
   "file_extension": ".py",
   "mimetype": "text/x-python",
   "name": "python",
   "nbconvert_exporter": "python",
   "pygments_lexer": "ipython3",
   "version": "3.7.11"
  }
 },
 "nbformat": 4,
 "nbformat_minor": 5
}
