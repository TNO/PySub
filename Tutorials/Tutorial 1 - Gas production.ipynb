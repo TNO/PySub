{
 "cells": [
  {
   "cell_type": "markdown",
   "id": "33772424",
   "metadata": {},
   "source": [
    "# PySub Tutorial 1 - Calculating compaction and subsidence\n",
    "Welcome to the first example case for building, running and displaying subsidence model using the PySub package, from an Excel template. \n",
    "\n",
    "This tutorial can be found in the folder \"Tutorials\", in the folder where your PySub package has been installed.\n",
    "\n",
    "The tutorial assumes installation has been succesful and this Notebook is being run in an environment where PySub has been succesfully installed. The installation instructions are available [here](https://github.com/TNO/PySub). \n",
    "\n",
    "In this tutorial we are going to built a model from an example Excel file. The case we are studying is a fictional gas or liquid extraction for which we know the resulting presure drop. The goal is to familiarize you with the PySub model, it's syntax and functionality. For how to fill in the Excel work sheet, we divert you to this tutorial (.../python-subsidence/Documentation/Intructions Template SubsidenceModelGas.docx). In addition, we show some quick methods on how to display subsidence. \n",
    "\n",
    "The PySub modules used in this tutorial are: SubsidenceModelGas, plot_utils and memory\n",
    "\n",
    "In tutorial 2, the subsidence will be determined from parameters related to excavating solid material and merging models. In tutorial 3 we will will go into how to work with some more advanced variables (slope, rate, etc.) and how to adjust plots. \n",
    "\n",
    "\n",
    "## PySub in action\n",
    "In below cell, an example is given of PySub code where the subsidence is determined and relevant data displayed. After running this cell, we will run through each line and discuss the methods used."
   ]
  },
  {
   "cell_type": "code",
   "execution_count": null,
   "id": "e7ea919e",
   "metadata": {
    "scrolled": true
   },
   "outputs": [],
   "source": [
    "import os\n",
    "\n",
    "import_path = \"Example gas.xlsx\"\n",
    "project_folder = os.getcwd()\n",
    "\n",
    "from PySub.memory import build_model, save\n",
    "from PySub import plot_utils as plot\n",
    "\n",
    "Model = build_model(import_path, \n",
    "                    name = 'Tutorial 1', \n",
    "                    project_folder = project_folder)\n",
    "\n",
    "plot.plot_reservoirs(Model)\n",
    "\n",
    "Model.calculate_compaction()\n",
    "plot.plot_subsidence(Model, variable = 'compaction', unit = 'm', contour_steps = 100)\n",
    "\n",
    "Model.calculate_subsidence()\n",
    "\n",
    "plot.plot_subsidence(Model)\n",
    "plot.plot_timeseries(Model, mode = 'max')\n",
    "\n",
    "save(Model)"
   ]
  },
  {
   "cell_type": "markdown",
   "id": "a589acf6",
   "metadata": {},
   "source": [
    "## Loading a model from Excel\n",
    "\n",
    "First, we need a filled Excel template (see .../python-subsidence/Documentation/Instruction Templates.docx) to import a model. With the function build_model we can import Excel files and any other supported files (JSON) as SubsidenceModel objects.\n",
    "\n",
    "Another important aspect of building the model is the project folder. The project folder will store temporary files, exported models, printed figures and other exported data. For now we use the current folder (where this notebook is stored in).\n",
    "\n",
    "In the first three lines we define where the Excel file and project folder are. The Excel file is being referenced as a relativa path, not an absolute path"
   ]
  },
  {
   "cell_type": "code",
   "execution_count": null,
   "id": "b495e364",
   "metadata": {},
   "outputs": [],
   "source": [
    "import os\n",
    "\n",
    "import_path = \"Example gas.xlsx\"\n",
    "project_folder = os.getcwd()"
   ]
  },
  {
   "cell_type": "markdown",
   "id": "ad3fbd1e",
   "metadata": {},
   "source": [
    "Remember to use the \"r\" in front of a string when the path has single backslashes and not double backslashes (or forward backslashes on Linux or Apple).\n",
    "\n",
    "Before we can use the build_model function, we need to import it from the memory module from PySUb. The memory model stores functions that relate to importing and exporting data. Because we want to import and store the model, we load both build_model and save."
   ]
  },
  {
   "cell_type": "code",
   "execution_count": null,
   "id": "645cd572",
   "metadata": {},
   "outputs": [],
   "source": [
    "from PySub.memory import build_model, save"
   ]
  },
  {
   "cell_type": "markdown",
   "id": "5741fc93",
   "metadata": {},
   "source": [
    "With any of the functions from this module, it can be useful to use their help function: "
   ]
  },
  {
   "cell_type": "code",
   "execution_count": null,
   "id": "db762539",
   "metadata": {},
   "outputs": [],
   "source": [
    "help(build_model)"
   ]
  },
  {
   "cell_type": "markdown",
   "id": "71a6618c",
   "metadata": {},
   "source": [
    "The variables \"name\" and \"project_folder\"are optional. When not specified or specified to \"None\" the Model name will be the same as the name of the Excel file and the project folder will be set to None. When the project folder is None, no data will be saved and any attempts to save them are met with a warning."
   ]
  },
  {
   "cell_type": "code",
   "execution_count": null,
   "id": "ea75f558",
   "metadata": {},
   "outputs": [],
   "source": [
    "Model = build_model(import_path, name = 'Tutorial 1', project_folder = project_folder)"
   ]
  },
  {
   "cell_type": "markdown",
   "id": "36ad5fde",
   "metadata": {},
   "source": [
    "The Model has been built automatically and is now ready to perform specific calculations on. The Model variable here is of type SubsidenceModel object from the SubsidenceModelGas module.\n",
    "\n",
    "## Our Model\n",
    "The model we have imported consists of 3 reservoirs. We can have a look at these reservoirs:"
   ]
  },
  {
   "cell_type": "code",
   "execution_count": null,
   "id": "57f188a9",
   "metadata": {},
   "outputs": [],
   "source": [
    "plot.plot_reservoirs(Model)"
   ]
  },
  {
   "cell_type": "markdown",
   "id": "0d8783da",
   "metadata": {},
   "source": [
    "We see three reservoirs for which the pressure drop and geomechanical parameters are defined in the Excel file. The pressure is distributed uniformly over the reservoir (as the Excel file is filled in as it is currently), which should be kept in mind when calculating the compaction that this pressure drop causes."
   ]
  },
  {
   "cell_type": "markdown",
   "id": "683b987e",
   "metadata": {},
   "source": [
    "## Calculate compaction\n",
    "\n",
    "In this example, the subsidence is caused by a pressure drop in the reservoir. This pressure drop causes compaction of the reservoir rock which in turn causes the subsidence. Because other causes of subsidence can be determined (see tutorial 2) the compaction is calculated seperately:"
   ]
  },
  {
   "cell_type": "code",
   "execution_count": null,
   "id": "86048ee8",
   "metadata": {},
   "outputs": [],
   "source": [
    "compaction = Model.calculate_compaction()"
   ]
  },
  {
   "cell_type": "markdown",
   "id": "adbad2d7",
   "metadata": {},
   "source": [
    "The method calculate_compaction returns a compaction variable, which is an xarray DataArray object. It stores the resulting compaction in the Model object too, as: Model.compaction. In the first code cell, this returned value is therefore omitted, bit here we want to have a closer look at the items it returns."
   ]
  },
  {
   "cell_type": "markdown",
   "id": "8ca7468e",
   "metadata": {},
   "source": [
    "To learn how to work with xarrays, check out their [tutorials page](https://xarray.pydata.org/en/stable/tutorials-and-videos.html).\n",
    "\n",
    "Some simple functionality for selecting coordinates (.sel), summing (.sum) and plotting (.plot) is shown here to visualize the compaction. We select a timestep by its label and sum all the values over the reservoirs to subsequently plot the compaction in meters over the entire model at the final timestep."
   ]
  },
  {
   "cell_type": "code",
   "execution_count": null,
   "id": "90ead987",
   "metadata": {
    "scrolled": true
   },
   "outputs": [],
   "source": [
    "Model.compaction.sel(time = '2010-01-01').sum(dim = 'reservoir').plot()"
   ]
  },
  {
   "cell_type": "markdown",
   "id": "c91e4ca7",
   "metadata": {},
   "source": [
    "A PySub native method also exists for plotting this:"
   ]
  },
  {
   "cell_type": "code",
   "execution_count": null,
   "id": "4171c390",
   "metadata": {},
   "outputs": [],
   "source": [
    "from PySub import plot_utils as plot\n",
    "plot.plot_subsidence(Model, variable = 'compaction', unit = 'm', contour_steps = 100)"
   ]
  },
  {
   "cell_type": "markdown",
   "id": "50ef1c9f",
   "metadata": {},
   "source": [
    "The reservoirs clearly outline the compaction, indicating the uniform pressure distribution. All spatial units in the model are stored in meters. You can set the spatial unit in this function. The default is cm!"
   ]
  },
  {
   "cell_type": "markdown",
   "id": "4decda7e",
   "metadata": {},
   "source": [
    "## Calculate subsidence\n",
    "\n",
    "Using this compaction, we can now determine the effect this compaction has on the surface above the reservoirs."
   ]
  },
  {
   "cell_type": "code",
   "execution_count": null,
   "id": "f9d97198",
   "metadata": {},
   "outputs": [],
   "source": [
    "Model.calculate_subsidence();"
   ]
  },
  {
   "cell_type": "markdown",
   "id": "71558c3d",
   "metadata": {},
   "source": [
    "The subsidence has been stored in the Model object and is being returned as an xarray DataArray. The subsidence is calculated for each reservoir and over all timesteps. \n",
    "\n",
    "\n",
    "## Making subsidence contour plots\n",
    "To visualize the subsidence, the PySub package has the additional module plot_utils (here imported as plot):"
   ]
  },
  {
   "cell_type": "code",
   "execution_count": null,
   "id": "f73bd7b7",
   "metadata": {},
   "outputs": [],
   "source": [
    "plot.plot_subsidence(Model)"
   ]
  },
  {
   "cell_type": "markdown",
   "id": "169840e4",
   "metadata": {},
   "source": [
    "Note that the subsidence is only printed at the final timestep, and with the subsidence caused by mutliple reservoirs superimposed over eachother. The data is shown in cm, whereas the subsidence results are stored in m.\n",
    "\n",
    "To plot the subsidence at a specified timestep, use the time argument in the plot_subsidence function:"
   ]
  },
  {
   "cell_type": "code",
   "execution_count": null,
   "id": "e78c692a",
   "metadata": {},
   "outputs": [],
   "source": [
    "plot.plot_subsidence(Model, time = '2000-01-01')"
   ]
  },
  {
   "cell_type": "markdown",
   "id": "efb90586",
   "metadata": {},
   "source": [
    "To plot the subsidence caused by a specific reservoir, use the reservoir argument. The units the data is shown in, can be adjusted using the unit argument. The default is in 'cm'. To change the unit of the plotted date change the unit argument to, for instance, 'mm': "
   ]
  },
  {
   "cell_type": "code",
   "execution_count": null,
   "id": "c594a933",
   "metadata": {},
   "outputs": [],
   "source": [
    "plot.plot_subsidence(Model, time = '2010-01-01', reservoir = 'Norg', unit = 'mm')"
   ]
  },
  {
   "cell_type": "markdown",
   "id": "cb9e449b",
   "metadata": {},
   "source": [
    "## Making subsidence timeseries\n",
    "\n",
    "Several options for timeseries and determining the subsidence at a location are available. Here we show the timeseries at the deepest point in the subsidence bowl, made easily accessible by setting mode to 'max' in the function plot_timeseries:"
   ]
  },
  {
   "cell_type": "code",
   "execution_count": null,
   "id": "99ba8119",
   "metadata": {},
   "outputs": [],
   "source": [
    "plot.plot_timeseries(Model, mode = 'max')"
   ]
  },
  {
   "cell_type": "markdown",
   "id": "a008e36a",
   "metadata": {},
   "source": [
    "The location of the deepest point is given in the legend of this type of figure."
   ]
  },
  {
   "cell_type": "markdown",
   "id": "c4834bd5",
   "metadata": {},
   "source": [
    "To get the value of the maximum subsidence, and its location, run the following method:"
   ]
  },
  {
   "cell_type": "code",
   "execution_count": null,
   "id": "aff1a903",
   "metadata": {},
   "outputs": [],
   "source": [
    "max_subsidence, (x, y) = Model.get_max_subsidence()\n",
    "print(f'Maximum subsidence: {max_subsidence: .3f} m')\n",
    "print(f'X                 : {x}')\n",
    "print(f'Y                 : {y}')"
   ]
  },
  {
   "cell_type": "markdown",
   "id": "56abd32d",
   "metadata": {},
   "source": [
    "## Making cross sections\n",
    "When one wants to see a cross-section (or sideview) of the subsidence bowl, a cross-section can be shown. There are two functions to show cross section, one that only shows the total subsidence (plot.plot_cross_section) and another to show the individual contribution to the overlap (plot_overlap_cross_section).\n",
    "\n",
    "First you have to define a line: "
   ]
  },
  {
   "cell_type": "code",
   "execution_count": null,
   "id": "3f00c225",
   "metadata": {},
   "outputs": [],
   "source": [
    "line = {'A': (208281, 565892), \n",
    "        'B': (221492, 568094), \n",
    "        'C': (227096, 573965)}\n",
    "line = ((208281, 565892), \n",
    "        (221492, 568094), \n",
    "        (227096, 573965))"
   ]
  },
  {
   "cell_type": "markdown",
   "id": "3c728e40",
   "metadata": {},
   "source": [
    "Which can be plotted with:"
   ]
  },
  {
   "cell_type": "code",
   "execution_count": null,
   "id": "3d72e29c",
   "metadata": {},
   "outputs": [],
   "source": [
    "plot.plot_map_with_line(Model, line)"
   ]
  },
  {
   "cell_type": "markdown",
   "id": "75ede3af",
   "metadata": {},
   "source": [
    "Sometimes it is easier to just click and draw and not have to go to another program to look this up, so there is a function to this in the same environment as PySub. Remove the # below to try:"
   ]
  },
  {
   "cell_type": "code",
   "execution_count": null,
   "id": "58e8c0a8",
   "metadata": {},
   "outputs": [],
   "source": [
    "# line = plot.ask_for_line(Model)"
   ]
  },
  {
   "cell_type": "code",
   "execution_count": null,
   "id": "556c2ee2",
   "metadata": {},
   "outputs": [],
   "source": [
    "plot.plot_cross_section(Model, line)"
   ]
  },
  {
   "cell_type": "code",
   "execution_count": null,
   "id": "5cde6cd3",
   "metadata": {},
   "outputs": [],
   "source": [
    "plot.plot_overlap_cross_section(Model, line)"
   ]
  },
  {
   "cell_type": "markdown",
   "id": "f6fc55c4",
   "metadata": {},
   "source": [
    "## Saving\n",
    "The Model now has plenty of interesting data, which will not be stored when closing this python kernel. To not let all of the computers hard work go to waste, we can save and export the Model and data.\n",
    "\n",
    "Saving the model is easiest with the save function, available from the memory module. In the memory module, the functions load is also available.\n",
    "\n",
    "For now, we are going to save the model in your current working directory:"
   ]
  },
  {
   "cell_type": "code",
   "execution_count": null,
   "id": "7849696d",
   "metadata": {},
   "outputs": [],
   "source": [
    "from PySub.memory import save, load\n",
    "\n",
    "save(Model)"
   ]
  },
  {
   "cell_type": "markdown",
   "id": "15800cec",
   "metadata": {},
   "source": [
    "As you can see, the file is stored in the project_folder, in the folder save, under the name of the model. To load the model, use the load function:"
   ]
  },
  {
   "cell_type": "code",
   "execution_count": null,
   "id": "87bf7f0a",
   "metadata": {},
   "outputs": [],
   "source": [
    "path = r'Tutorial 1\\save\\Tutorial 1.smf'\n",
    "loaded_model = load(path)"
   ]
  },
  {
   "cell_type": "code",
   "execution_count": null,
   "id": "313cbb70",
   "metadata": {},
   "outputs": [],
   "source": [
    "plot.plot_subsidence(loaded_model)"
   ]
  },
  {
   "cell_type": "markdown",
   "id": "cc5d248b",
   "metadata": {},
   "source": [
    "Now we can use the Excel file to calculate and show the basics of subsidence caused by fluid or gas extraction from deep reservoirs. In tutorial 2 this model will be used again to merge with a model where the subsidence is caused by salt extraction. "
   ]
  },
  {
   "cell_type": "code",
   "execution_count": null,
   "id": "a1a7bae2",
   "metadata": {},
   "outputs": [],
   "source": []
  }
 ],
 "metadata": {
  "kernelspec": {
   "display_name": "Python 3 (ipykernel)",
   "language": "python",
   "name": "python3"
  },
  "language_info": {
   "codemirror_mode": {
    "name": "ipython",
    "version": 3
   },
   "file_extension": ".py",
   "mimetype": "text/x-python",
   "name": "python",
   "nbconvert_exporter": "python",
   "pygments_lexer": "ipython3",
   "version": "3.10.6"
  }
 },
 "nbformat": 4,
 "nbformat_minor": 5
}
