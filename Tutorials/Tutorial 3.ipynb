{
 "cells": [
  {
   "cell_type": "markdown",
   "id": "93cb12d7",
   "metadata": {},
   "source": [
    "# PySub Tutorial 3 - Calculation and display of subsidence derivatives, advanced figures\n",
    "\n",
    "Welcome to the third example case for building, where we use previously determined subsidence from Tutorial 2 to calculate the slope, concavity and rate. And work out how to display the resulting data in various ways.\n",
    "\n",
    "This tutorial can be found in the folder \"Example folder\", in the folder where your PySub package has been installed:\n",
    ".../python-subsidence/Examples\n",
    "\n",
    "The tutorial assumes installation has been succesful and this Notebook is being run in an environment where PySub has been succesfully installed. The instalation instructions are available (.../python-subsidence/Documentation/Documentation.py). \n",
    "\n",
    "The case we are studying is a the result of Tutorial 2, so make sure you have run that code so the model file is saved in the Tutorial 2 folder. The goal is to familiarize you with the PySub model, it's syntax and functionality. \n",
    "\n",
    "The PySub modules used in this tutorial are: plot_utils and memory\n",
    "\n",
    "Notes:\n",
    "- For now the files in this example are stored on the TNO-AGE server, so make sure you are connected!\n",
    "\n",
    "## The code\n",
    "In below cells, an example is given of PySub code where the subsidence is loaded and relevant derivatives determined and displayed. After running these cells, we will run through each line and discuss the methods used.\n",
    "\n",
    "After this, methods to refine your plots will be discussed."
   ]
  },
  {
   "cell_type": "code",
   "execution_count": null,
   "id": "0d69a91a",
   "metadata": {
    "scrolled": false
   },
   "outputs": [],
   "source": [
    "from PySub.memory import load\n",
    "from PySub import plot_utils as plot\n",
    "load_file = r'Tutorial 1\\save\\Tutorial 1.smf'\n",
    "Model = load(load_file)\n",
    "\n",
    "plot.plot_subsidence(Model)"
   ]
  },
  {
   "cell_type": "code",
   "execution_count": null,
   "id": "6d53b507",
   "metadata": {},
   "outputs": [],
   "source": [
    "Model.calculate_slope()  \n",
    "plot.plot_subsidence(Model, \n",
    "                     variable = 'slope', \n",
    "                     contour_steps = 2e-6)\n"
   ]
  },
  {
   "cell_type": "code",
   "execution_count": null,
   "id": "7fe5638b",
   "metadata": {},
   "outputs": [],
   "source": [
    "Model.calculate_concavity() \n",
    "plot.plot_subsidence(Model, \n",
    "                     variable = 'concavity', \n",
    "                     contour_steps = 2e-9)"
   ]
  },
  {
   "cell_type": "code",
   "execution_count": null,
   "id": "a3916c5c",
   "metadata": {},
   "outputs": [],
   "source": [
    "Model.calculate_subsidence_rate()  \n",
    "plot.plot_subsidence(Model, variable = 'subsidence_rate', time = 1995,\n",
    "                     contour_steps = 0.001)"
   ]
  },
  {
   "cell_type": "markdown",
   "id": "6261ca28",
   "metadata": {},
   "source": [
    "## Slope\n",
    "The slope is defined here as the difference in subsidence ($\\frac{m}{m}$) over a 2D distance:\n",
    "$$slope = \\frac{\\Delta u_z}{\\Delta x}, \\frac{\\Delta u_z}{\\Delta y}$$\n",
    "So it is only the slope of the subsidence bowl.\n",
    "\n",
    "Any spatial gradients presented here are determined using analytical derivatives. The rate is determined by using a second order central difference scheme over time.\n",
    "\n",
    "The slope given here is the gradient magnitude: $\\sqrt{\\frac{\\Delta u_z}{\\Delta x}^2 + \\frac{\\Delta u_z}{\\Delta y}^2}$\n",
    "\n",
    "Concerning subsidence the slope might give insight in the differential vertical displacement over a given distance caused by this subsidence.\n",
    "\n",
    "To calculate the slope using PySub:"
   ]
  },
  {
   "cell_type": "code",
   "execution_count": null,
   "id": "ccc3166e",
   "metadata": {},
   "outputs": [],
   "source": [
    "help(Model.calculate_slope)"
   ]
  },
  {
   "cell_type": "markdown",
   "id": "70be7b0b",
   "metadata": {},
   "source": [
    "## Concavity\n",
    "The concavity is defined here as the difference in difference in subsidence over a 2D distance. Or: The curvature of the subsidence bowl in $\\frac{m}{m^2}$ and is in turn the difference in slope over a distance.\n",
    "\n",
    "$$concavity = \n",
    "  \\frac{\\Delta^2 u_z}{\\Delta x^2},\n",
    "  \\frac{\\Delta^2 u_z}{\\Delta x\\Delta y},\n",
    "  \\frac{\\Delta^2 u_z}{\\Delta y^2},\n",
    "  \\frac{\\Delta^2 u_z}{\\Delta x \\Delta y},\n",
    "  $$\n",
    "\n",
    "The concavity given here is the concavity magnitude (the square root of the sum of squares of the terms in concavity).\n",
    "\n",
    "To calculate the concavity using PySub:"
   ]
  },
  {
   "cell_type": "code",
   "execution_count": null,
   "id": "4a62086c",
   "metadata": {},
   "outputs": [],
   "source": [
    "help(Model.calculate_concavity)"
   ]
  },
  {
   "cell_type": "markdown",
   "id": "a6ffaf71",
   "metadata": {},
   "source": [
    "## Rate\n",
    "The rate (subsidence over time, $\\frac{\\Delta u}{\\Delta t}$) is determined in m/year using:"
   ]
  },
  {
   "cell_type": "code",
   "execution_count": null,
   "id": "4d88ca73",
   "metadata": {},
   "outputs": [],
   "source": [
    "help(Model.calculate_subsidence_rate)"
   ]
  },
  {
   "cell_type": "markdown",
   "id": "e82c5565",
   "metadata": {},
   "source": [
    "## Displaying the new data\n",
    "The results of these functions are stored in Model.variable and can be retreived using for instance:"
   ]
  },
  {
   "cell_type": "code",
   "execution_count": null,
   "id": "d242a63f",
   "metadata": {},
   "outputs": [],
   "source": [
    "slope = Model.slope\n",
    "concavity = Model['concavity']\n",
    "rate = getattr(Model, 'subsidence_rate'); # note the need to add 'subsidence:' before rate"
   ]
  },
  {
   "cell_type": "markdown",
   "id": "1aff32ec",
   "metadata": {},
   "source": [
    "But to plot the results we don't need to use a function other than plot_subsidence. Some considerations are in order. "
   ]
  },
  {
   "cell_type": "code",
   "execution_count": null,
   "id": "9f781ee7",
   "metadata": {},
   "outputs": [],
   "source": [
    "help(plot.plot_subsidence)"
   ]
  },
  {
   "cell_type": "markdown",
   "id": "238b6d5c",
   "metadata": {},
   "source": [
    "For instance, the contour_steps parameter is set to a standard of 0.01 m. If the chosen variable doesn't produce enough or too many contours with this setting, we need to adjust this. We can find the range of the variables by for instance:"
   ]
  },
  {
   "cell_type": "code",
   "execution_count": null,
   "id": "74642090",
   "metadata": {
    "scrolled": true
   },
   "outputs": [],
   "source": [
    "print(f\"\"\"{Model.slope.max().values: g} m\"\"\")"
   ]
  },
  {
   "cell_type": "markdown",
   "id": "07b60799",
   "metadata": {},
   "source": [
    "All values for this parameter are positive and since the maximum value is quite low, there will be no contour lines set at 0.01 m. Here we choose a contour step size of 2e-6 m:"
   ]
  },
  {
   "cell_type": "code",
   "execution_count": null,
   "id": "9b151b92",
   "metadata": {},
   "outputs": [],
   "source": [
    "plot.plot_subsidence(Model, \n",
    "                     variable = 'slope', \n",
    "                     contour_steps = 2e-6)"
   ]
  },
  {
   "cell_type": "markdown",
   "id": "b4eb2e88",
   "metadata": {},
   "source": [
    "You can also define the contour levels yourselves, but the variable contour_steps will still play a role. Then it determines the amount of transparent fill of the contours:"
   ]
  },
  {
   "cell_type": "code",
   "execution_count": null,
   "id": "a748f55d",
   "metadata": {},
   "outputs": [],
   "source": [
    "plot.plot_subsidence(Model, \n",
    "                     variable = 'slope', \n",
    "                     contour_levels = [1e-6, 5e-6],\n",
    "                     contour_steps = 1e-6)\n",
    "\n",
    "plot.plot_subsidence(Model, \n",
    "                     variable = 'slope', \n",
    "                     contour_levels = [1e-6, 5e-6],\n",
    "                     contour_steps = 5e-6)"
   ]
  },
  {
   "cell_type": "markdown",
   "id": "68dcf36e",
   "metadata": {},
   "source": [
    "You can check which contours are going to appear with which step size using:"
   ]
  },
  {
   "cell_type": "code",
   "execution_count": null,
   "id": "0e33412e",
   "metadata": {},
   "outputs": [],
   "source": [
    "Model.get_contour_levels('slope', contour_steps = 2e-6)"
   ]
  },
  {
   "cell_type": "markdown",
   "id": "95675819",
   "metadata": {},
   "source": [
    "The 'slope' result of calculate_slope is a slope magnitude. It tells you how much the area is sloping, but it doesn't tell you which way. The slope_x and slope_y results do. In below figures, the negative values indicate that the slope over the x-axis is decreasing over increasing x-axis (or decreasing slope over the y_axis with incresing y-axis). \n",
    "\n",
    "The variables set by concavity are the concavity mignitude (as just concavity) and concavity_xx, concavity_xy, concavity_yx, concavity_yy variables. "
   ]
  },
  {
   "cell_type": "code",
   "execution_count": null,
   "id": "52102ebe",
   "metadata": {},
   "outputs": [],
   "source": [
    "plot.plot_subsidence(Model, \n",
    "                     variable = 'slope_x', \n",
    "                     contour_steps = 2e-6)\n",
    "plot.plot_subsidence(Model, \n",
    "                     variable = 'slope_y', \n",
    "                     contour_steps = 2e-6)"
   ]
  },
  {
   "cell_type": "markdown",
   "id": "0b30dd4e",
   "metadata": {},
   "source": [
    "## Background layers\n",
    "The standard background maps chosen in PySub are a Dutch set of topographical maps (OpenTopo). Other maps can be added by finding the link to its wmts service and its layer to the arguments of the plot function. Chances are, that the WMTS function is not in the same coordinate system that your data is in, so specify the coordinate system your data is in."
   ]
  },
  {
   "cell_type": "markdown",
   "id": "6a2338af",
   "metadata": {},
   "source": [
    "# Adjusting visuals\n",
    "The PySub plotting functions pass arguments to matplotlib.pyplot functions to dictate the plotted result. The default arguments are stored in the Model object. If we want to see the default values we can go to the model object and check which defaults values are set for each type of function. "
   ]
  },
  {
   "cell_type": "code",
   "execution_count": null,
   "id": "70859897",
   "metadata": {},
   "outputs": [],
   "source": [
    "Model.contourf_defaults"
   ]
  },
  {
   "cell_type": "markdown",
   "id": "f9411f9b",
   "metadata": {},
   "source": [
    "The defaults can be set with:"
   ]
  },
  {
   "cell_type": "code",
   "execution_count": null,
   "id": "4a4efb93",
   "metadata": {},
   "outputs": [],
   "source": [
    "Model.set_contourf_defaults({'cmap': 'jet'})"
   ]
  },
  {
   "cell_type": "markdown",
   "id": "19a00413",
   "metadata": {},
   "source": [
    "The explanation on how to adjust the defaults and which are available can be found by passing the desired setting function to the help function:"
   ]
  },
  {
   "cell_type": "code",
   "execution_count": null,
   "id": "6f8cd15a",
   "metadata": {},
   "outputs": [],
   "source": [
    "help(Model.set_contourf_defaults)"
   ]
  },
  {
   "cell_type": "markdown",
   "id": "6024a82c",
   "metadata": {},
   "source": [
    "When setting the default kwargs for that function all the plotting functions that make filled contours will use these arguments. If you want a specific call to a function you can set the keyword arguments in the function as well:"
   ]
  },
  {
   "cell_type": "code",
   "execution_count": null,
   "id": "ac29654d",
   "metadata": {},
   "outputs": [],
   "source": [
    "plot.plot_subsidence(Model, contourf_kwargs = {'cmap': 'gist_rainbow_r'})"
   ]
  },
  {
   "cell_type": "markdown",
   "id": "026b705a",
   "metadata": {},
   "source": [
    "The possible kwargs are visible in the help function for the plot function."
   ]
  },
  {
   "cell_type": "markdown",
   "id": "009bf02d",
   "metadata": {},
   "source": [
    "## Shapes\n",
    "The reservoirs are shown in the figures as polygons (standard green) and the caverns are displayed as points. It is also possible to have grids shown. Each of these type of spatial representations of a reservoir or cavern are stored in a geometry object from PySub.\n",
    "\n",
    "In this part, we are discussing the use of shapes in the PySub tool. It is not the aim of the PySub tool to make editable shapes. We recommend GIS software to make figures using poylgons, lines and points. PySub's tools for this are limited.\n",
    "\n",
    "The shapes of the reservoirs can be removed from the final figure by setting the plot_reservoir_shapes argument to False:"
   ]
  },
  {
   "cell_type": "code",
   "execution_count": null,
   "id": "3921413c",
   "metadata": {},
   "outputs": [],
   "source": [
    "plot.plot_subsidence(Model, plot_reservoir_shapes = False)"
   ]
  },
  {
   "cell_type": "markdown",
   "id": "88c070ea",
   "metadata": {},
   "source": [
    "Note that the contours are now plotted with the \"jet\" colormap. The shapes can be highlighted by setting the specific color of a shape. There are 3 reservoirs that have shapes plotted for the gas reservoirs, the others are scattered points for the salt mines."
   ]
  },
  {
   "cell_type": "code",
   "execution_count": null,
   "id": "358bb80f",
   "metadata": {},
   "outputs": [],
   "source": [
    "yellow         = (1, 1, 0) # or 'yellow'\n",
    "green          = (0, 1, 0) # or 'green'\n",
    "gas_reservoirs = ['Norg', 'Allardsoog', 'Een']\n",
    "colors         = [yellow,  green,        green]\n",
    "\n",
    "for color, reservoir in zip(colors, gas_reservoirs): print(reservoir, color)"
   ]
  },
  {
   "cell_type": "code",
   "execution_count": null,
   "id": "762f5386",
   "metadata": {},
   "outputs": [],
   "source": [
    "plot.plot_reservoirs(Model, shape_kwargs = {'fc': colors})"
   ]
  },
  {
   "cell_type": "markdown",
   "id": "150a4f83",
   "metadata": {},
   "source": [
    "Below figure has had some additional editing done.\n",
    "Maybe that's a bit far out and we want to zoom in (a negative sign before the buffer parameter).\n",
    "I want to add some additional information to this figure, not native to PySub! Like:\n",
    "- a legend for the colors I have been using. We want it clear that the yellow field is the field that's going to be producing and the others have been producing already. Therefore, We want the labels to say yellow = Producing soon and green = Producing.\n",
    "- labels for the x- and y-axis\n",
    "\n",
    "We can retreive the figure for additional plotting by setting final to False. This returns a matplotlib fig and ax object, allowing for further manipulation of the figure:"
   ]
  },
  {
   "cell_type": "code",
   "execution_count": null,
   "id": "1ce27475",
   "metadata": {},
   "outputs": [],
   "source": [
    "# Return a fig and ax object\n",
    "fig, ax = plot.plot_reservoirs(\n",
    "    Model, \n",
    "    shape_kwargs = {'fc': colors}, \n",
    "    final = False,\n",
    "    buffer = -5000 # In m\n",
    ")\n",
    "\n",
    "# Set the axis labels\n",
    "ax.set_xlabel('RD (m)')\n",
    "ax.set_ylabel('RD (m)')\n",
    "\n",
    "# Get how the legend object are supposed to look like\n",
    "# using the relevant keyword arguments.\n",
    "# for more info, use help(plot.add_custom_legend).\n",
    "legend_kwargs = [Model.shape_defaults.copy() for c in (yellow, green)]\n",
    "for i, c in enumerate((yellow, green)):\n",
    "    legend_kwargs[i]['facecolor'] = c\n",
    "\n",
    "# Make some good labels:\n",
    "legend_labels = ['Producing soon', 'Producing',]\n",
    "    \n",
    "plot.add_custom_legend(ax, 'polygon', \n",
    "                       kwargs = legend_kwargs, \n",
    "                       labels = legend_labels)\n",
    "fig.show()"
   ]
  },
  {
   "cell_type": "code",
   "execution_count": null,
   "id": "b9690628",
   "metadata": {},
   "outputs": [],
   "source": [
    "line = {'A': (213485, 564958),\n",
    "        'B': (227963, 573031)}\n",
    "plot.plot_overlap_cross_section(Model, line, variable = 'slope_x', mode = 'individual', contour_steps = 1e-9)"
   ]
  },
  {
   "cell_type": "code",
   "execution_count": null,
   "id": "b23ce64c",
   "metadata": {},
   "outputs": [],
   "source": [
    "help(plot.plot_overlap_cross_section)"
   ]
  },
  {
   "cell_type": "code",
   "execution_count": null,
   "id": "0348a364",
   "metadata": {},
   "outputs": [],
   "source": []
  }
 ],
 "metadata": {
  "kernelspec": {
   "display_name": "Python 3 (ipykernel)",
   "language": "python",
   "name": "python3"
  },
  "language_info": {
   "codemirror_mode": {
    "name": "ipython",
    "version": 3
   },
   "file_extension": ".py",
   "mimetype": "text/x-python",
   "name": "python",
   "nbconvert_exporter": "python",
   "pygments_lexer": "ipython3",
   "version": "3.7.11"
  }
 },
 "nbformat": 4,
 "nbformat_minor": 5
}
