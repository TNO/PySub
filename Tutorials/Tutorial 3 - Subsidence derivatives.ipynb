{
 "cells": [
  {
   "cell_type": "markdown",
   "id": "93cb12d7",
   "metadata": {},
   "source": [
    "# PySub Tutorial 3 - Calculation and display of subsidence derivatives\n",
    "\n",
    "Welcome to the third example case for building, where we use previously determined subsidence from Tutorial 1 to calculate the slope, concavity and rate. And work out how to display the resulting data for variables other than subsidence in the order of mm to m.\n",
    "\n",
    "This tutorial can be found in the folder \"Tutorials\", in the folder where your PySub package has been installed.\n",
    "\n",
    "The case we are studying is a the result of Tutorial 1, so make sure you have run that code so the model file is saved in the Tutorial 1 folder. The goal of this tutorial is to introduce the calculation of relevant subsidence deriavtives. \n",
    "\n",
    "The PySub modules used in this tutorial are: plot_utils and memory\n",
    "\n",
    "In this tutorial we will show you how to:\n",
    "- Calculate the slope and concavity of the subsidence bowl\n",
    "- Adjust the contour steps which are plotted.\n",
    "\n",
    "## The code\n",
    "In below cells, an example is given of PySub code where the subsidence is loaded and relevant derivatives determined and displayed. After running these cells, we will run through each line and discuss the methods used."
   ]
  },
  {
   "cell_type": "code",
   "execution_count": null,
   "id": "0d69a91a",
   "metadata": {
    "scrolled": false
   },
   "outputs": [],
   "source": [
    "from PySub.memory import load\n",
    "from PySub import plot_utils as plot\n",
    "load_file = r'Tutorial 1\\save\\Tutorial 1.smf'\n",
    "Model = load(load_file)\n",
    "\n",
    "plot.plot_subsidence(Model)"
   ]
  },
  {
   "cell_type": "code",
   "execution_count": null,
   "id": "6d53b507",
   "metadata": {},
   "outputs": [],
   "source": [
    "Model.calculate_slope()  \n",
    "plot.plot_subsidence(Model, \n",
    "                     variable = 'slope', \n",
    "                     contour_steps = 2e-6)\n"
   ]
  },
  {
   "cell_type": "code",
   "execution_count": null,
   "id": "7fe5638b",
   "metadata": {},
   "outputs": [],
   "source": [
    "Model.calculate_concavity() \n",
    "plot.plot_subsidence(Model, \n",
    "                     variable = 'concavity', \n",
    "                     contour_steps = 2e-9)"
   ]
  },
  {
   "cell_type": "code",
   "execution_count": null,
   "id": "a3916c5c",
   "metadata": {},
   "outputs": [],
   "source": [
    "Model.calculate_subsidence_rate()  \n",
    "plot.plot_subsidence(Model, variable = 'subsidence_rate', time = 1995,\n",
    "                     contour_steps = 0.001)"
   ]
  },
  {
   "cell_type": "markdown",
   "id": "6261ca28",
   "metadata": {},
   "source": [
    "## Slope\n",
    "The slope is defined here as the difference in subsidence ($\\frac{m}{m}$) over a 2D distance:\n",
    "$$slope = \\frac{\\Delta u_z}{\\Delta x}, \\frac{\\Delta u_z}{\\Delta y}$$\n",
    "So it is only the slope of the subsidence bowl.\n",
    "\n",
    "Any spatial gradients presented here are determined using analytical derivatives. The rate is determined by using a second order central difference scheme over time.\n",
    "\n",
    "The slope given here is the gradient magnitude: $\\sqrt{\\frac{\\Delta u_z}{\\Delta x}^2 + \\frac{\\Delta u_z}{\\Delta y}^2}$\n",
    "When determining vector magnitude (slope and concavity magnitudes) over multiple reservoirs, the vector components (for slope the components x and y, for concavity: xx, xy, yx, yy) are summed over the reservoir before determining the magnitude due to summing of the magnitudes is not correct. \n",
    "\n",
    "Concerning subsidence the slope might give insight in the differential vertical displacement over a given distance caused by this subsidence.\n",
    "\n",
    "To calculate the slope using PySub:"
   ]
  },
  {
   "cell_type": "code",
   "execution_count": null,
   "id": "ccc3166e",
   "metadata": {},
   "outputs": [],
   "source": [
    "help(Model.calculate_slope)"
   ]
  },
  {
   "cell_type": "markdown",
   "id": "70be7b0b",
   "metadata": {},
   "source": [
    "## Concavity\n",
    "The concavity is defined here as the difference in difference in subsidence over a 2D distance. Or: The curvature of the subsidence bowl in $\\frac{m}{m^2}$ and is in turn the difference in slope over a distance.\n",
    "\n",
    "$$concavity = \n",
    "  \\frac{\\Delta^2 u_z}{\\Delta x^2},\n",
    "  \\frac{\\Delta^2 u_z}{\\Delta x\\Delta y},\n",
    "  \\frac{\\Delta^2 u_z}{\\Delta y^2},\n",
    "  \\frac{\\Delta^2 u_z}{\\Delta x \\Delta y},\n",
    "  $$\n",
    "\n",
    "The concavity given here is the concavity magnitude (the square root of the sum of squares of the terms in concavity).\n",
    "\n",
    "To calculate the concavity using PySub:"
   ]
  },
  {
   "cell_type": "code",
   "execution_count": null,
   "id": "4a62086c",
   "metadata": {},
   "outputs": [],
   "source": [
    "help(Model.calculate_concavity)"
   ]
  },
  {
   "cell_type": "markdown",
   "id": "a6ffaf71",
   "metadata": {},
   "source": [
    "## Rate\n",
    "The rate (subsidence over time, $\\frac{\\Delta u}{\\Delta t}$) is determined in m/year using:"
   ]
  },
  {
   "cell_type": "code",
   "execution_count": null,
   "id": "4d88ca73",
   "metadata": {},
   "outputs": [],
   "source": [
    "help(Model.calculate_subsidence_rate)"
   ]
  },
  {
   "cell_type": "markdown",
   "id": "e82c5565",
   "metadata": {},
   "source": [
    "## Displaying derivatives\n",
    "The results of these functions are stored in the SubsidenceModel object as a variable and can be retreived using for instance:"
   ]
  },
  {
   "cell_type": "code",
   "execution_count": null,
   "id": "d242a63f",
   "metadata": {},
   "outputs": [],
   "source": [
    "slope = Model.slope\n",
    "concavity = Model['concavity']\n",
    "rate = getattr(Model, 'subsidence_rate'); # note the need to add 'subsidence:' before rate"
   ]
  },
  {
   "cell_type": "markdown",
   "id": "1aff32ec",
   "metadata": {},
   "source": [
    "But to plot the results we don't need to use a function other than plot_subsidence. Some considerations are in order. "
   ]
  },
  {
   "cell_type": "code",
   "execution_count": null,
   "id": "9f781ee7",
   "metadata": {},
   "outputs": [],
   "source": [
    "help(plot.plot_subsidence)"
   ]
  },
  {
   "cell_type": "markdown",
   "id": "238b6d5c",
   "metadata": {},
   "source": [
    "For instance, the contour_steps parameter is set to a standard of 0.01 m. If the chosen variable doesn't produce enough or too many contours with this setting, we need to adjust this. We can find the range of the variables by for instance:"
   ]
  },
  {
   "cell_type": "code",
   "execution_count": null,
   "id": "74642090",
   "metadata": {
    "scrolled": true
   },
   "outputs": [],
   "source": [
    "print(f\"\"\"{Model.slope.max().values: g} m\"\"\")"
   ]
  },
  {
   "cell_type": "markdown",
   "id": "07b60799",
   "metadata": {},
   "source": [
    "All values for this parameter are positive and since the maximum value is quite low, there will be no contour lines set at 0.01 m. Here we choose a contour step size of 2e-6 m:"
   ]
  },
  {
   "cell_type": "code",
   "execution_count": null,
   "id": "9b151b92",
   "metadata": {},
   "outputs": [],
   "source": [
    "plot.plot_subsidence(Model, \n",
    "                     variable = 'slope', \n",
    "                     contour_steps = 2e-6)"
   ]
  },
  {
   "cell_type": "markdown",
   "id": "b4eb2e88",
   "metadata": {},
   "source": [
    "You can also define the contour levels yourselves, but the variable contour_steps will still play a role. Then it determines the amount of transparent fill of the contours:"
   ]
  },
  {
   "cell_type": "code",
   "execution_count": null,
   "id": "a748f55d",
   "metadata": {},
   "outputs": [],
   "source": [
    "plot.plot_subsidence(Model, \n",
    "                     variable = 'slope', \n",
    "                     contour_levels = [1e-6, 5e-6],\n",
    "                     contour_steps = 1e-6)\n",
    "\n",
    "plot.plot_subsidence(Model, \n",
    "                     variable = 'slope', \n",
    "                     contour_levels = [1e-6, 5e-6],\n",
    "                     contour_steps = 5e-6)"
   ]
  },
  {
   "cell_type": "markdown",
   "id": "68dcf36e",
   "metadata": {},
   "source": [
    "You can check which contours are going to appear with which step size using:"
   ]
  },
  {
   "cell_type": "code",
   "execution_count": null,
   "id": "0e33412e",
   "metadata": {},
   "outputs": [],
   "source": [
    "Model.get_contour_levels('slope', contour_steps = 2e-6)"
   ]
  },
  {
   "cell_type": "markdown",
   "id": "95675819",
   "metadata": {},
   "source": [
    "The 'slope' result of calculate_slope is a slope magnitude. It tells you how much the area is sloping, but it doesn't tell you which way. The slope_x and slope_y results do. In below figures, the negative values indicate that the slope over the x-axis is decreasing over increasing x-axis (or decreasing slope over the y_axis with incresing y-axis). \n",
    "\n",
    "The variables set by concavity are the concavity mignitude (as just concavity) and concavity_xx, concavity_xy, concavity_yx, concavity_yy variables. "
   ]
  },
  {
   "cell_type": "code",
   "execution_count": null,
   "id": "52102ebe",
   "metadata": {},
   "outputs": [],
   "source": [
    "plot.plot_subsidence(Model, \n",
    "                     variable = 'slope_x', \n",
    "                     contour_steps = 2e-6)\n",
    "plot.plot_subsidence(Model, \n",
    "                     variable = 'slope_y', \n",
    "                     contour_steps = 2e-6)"
   ]
  },
  {
   "cell_type": "markdown",
   "id": "964ec1c9",
   "metadata": {},
   "source": [
    "# Next tutorial\n",
    "In tutorial 4 the results of tutorial 1 are used to adjust the visuals of the plots further."
   ]
  },
  {
   "cell_type": "code",
   "execution_count": null,
   "id": "1012f29b",
   "metadata": {},
   "outputs": [],
   "source": []
  }
 ],
 "metadata": {
  "kernelspec": {
   "display_name": "Python 3 (ipykernel)",
   "language": "python",
   "name": "python3"
  },
  "language_info": {
   "codemirror_mode": {
    "name": "ipython",
    "version": 3
   },
   "file_extension": ".py",
   "mimetype": "text/x-python",
   "name": "python",
   "nbconvert_exporter": "python",
   "pygments_lexer": "ipython3",
   "version": "3.10.6"
  }
 },
 "nbformat": 4,
 "nbformat_minor": 5
}
